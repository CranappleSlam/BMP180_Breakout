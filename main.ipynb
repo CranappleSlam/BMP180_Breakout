{
  "nbformat": 4,
  "nbformat_minor": 0,
  "metadata": {
    "colab": {
      "name": "main.ipynb",
      "provenance": [],
      "collapsed_sections": [],
      "include_colab_link": true
    },
    "kernelspec": {
      "name": "python3",
      "display_name": "Python 3"
    }
  },
  "cells": [
    {
      "cell_type": "markdown",
      "metadata": {
        "id": "view-in-github",
        "colab_type": "text"
      },
      "source": [
        "<a href=\"https://colab.research.google.com/github/CranappleSlam/BMP180_Breakout/blob/master/main.ipynb\" target=\"_parent\"><img src=\"https://colab.research.google.com/assets/colab-badge.svg\" alt=\"Open In Colab\"/></a>"
      ]
    },
    {
      "cell_type": "markdown",
      "metadata": {
        "id": "ZNlpEYHNjcT_",
        "colab_type": "text"
      },
      "source": [
        "#  Homework 01\n",
        "## Data Science (masters)\n",
        "## Math 5364 & 5366, Fall 20 & Spring 21\n",
        "## Tarleton State University\n",
        "## Dr. Scott Cook"
      ]
    },
    {
      "cell_type": "markdown",
      "metadata": {
        "id": "ZsUdDDkFjf47",
        "colab_type": "text"
      },
      "source": [
        "# Setup"
      ]
    },
    {
      "cell_type": "markdown",
      "metadata": {
        "id": "Py3JwT_aU9uh",
        "colab_type": "text"
      },
      "source": [
        "1. Create & email your GitHub user name to scook@tarleton.edu\n",
        "1. Login to github with those credentials\n",
        "1. Create personal access token & store in secure location (I use Keepass) - https://docs.github.com/en/github/authenticating-to-github/creating-a-personal-access-token\n",
        "1. Accept invitation to Tarleton-Math group & Data-Science-20-21 team\n",
        "1. Login to google drive\n",
        "1. Click link in my email about hwk01 and accept\n",
        "1. Login to google drive\n",
        "1. Click git_assignment.ipynb\n",
        "1. Click \"Open in Colab\"\n",
        "1. Set your preferred_path (append /hwk to make a hwk subfolder)\n",
        "1. Run the first two cells and then allow, authorize, and follow prompts.  This clones the repo with your personal copy of hwk01 to that preferred path in your google drive.\n",
        "1. In google drive, navagte to this preferred path and double click \"main.ipynb\"\n",
        "1. Open with → Google Colaboratory.  If not there, \"Connect more apps\"\n",
        "1. Do the homework\n",
        "\n",
        "To save progress & submit for grading in your github repo, either:\n",
        "- Use push() in git_assignment.ipynb\n",
        "    - pushes entire folder, not just main.ipynb - useful if you created or modified other files\n",
        "- File → Save a copy in Github\n",
        "    - PUSH TO BRANCH \"WORKING\"\n",
        "    - only pushes main.ipynb\n",
        "    - may need to authorize, allow private repos, add Tarleton-Math/ in front of your username"
      ]
    },
    {
      "cell_type": "code",
      "metadata": {
        "id": "J2Kv02GMrsjl",
        "colab_type": "code",
        "cellView": "both",
        "colab": {
          "base_uri": "https://localhost:8080/",
          "height": 156
        },
        "outputId": "d156d4db-4199-415e-f310-226d2db8c053"
      },
      "source": [
        "preferred_path = f\"My Drive/active/m5364-6-data-science-20-21/as-student/hwk\"   # your preferred google drive path\n",
        "hwk_num = \"01\"\n",
        "\n",
        "import os\n",
        "import google.colab\n",
        "import getpass\n",
        "\n",
        "root_path = \"/content/drive/\"\n",
        "google.colab.drive.mount(root_path)\n",
        "\n",
        "user = input(\"Enter your github username\")\n",
        "\n",
        "hwk_name = f\"data-science-20-21-hwk{hwk_num}\"\n",
        "repo_name = hwk_name\n",
        "if user != \"drscook\" and user != \"\":\n",
        "    repo_name += f\"-{user}\"\n",
        "repo_path = os.path.join(root_path, preferred_path, repo_name)\n",
        "%cd \"{repo_path}\""
      ],
      "execution_count": 3,
      "outputs": [
        {
          "output_type": "stream",
          "text": [
            "Go to this URL in a browser: https://accounts.google.com/o/oauth2/auth?client_id=947318989803-6bn6qk8qdgf4n4g3pfee6491hc0brc4i.apps.googleusercontent.com&redirect_uri=urn%3aietf%3awg%3aoauth%3a2.0%3aoob&scope=email%20https%3a%2f%2fwww.googleapis.com%2fauth%2fdocs.test%20https%3a%2f%2fwww.googleapis.com%2fauth%2fdrive%20https%3a%2f%2fwww.googleapis.com%2fauth%2fdrive.photos.readonly%20https%3a%2f%2fwww.googleapis.com%2fauth%2fpeopleapi.readonly&response_type=code\n",
            "\n",
            "Enter your authorization code:\n",
            "··········\n",
            "Mounted at /content/drive/\n",
            "Enter your github usernameCranappleSlam\n",
            "/content/drive/My Drive/active/m5364-6-data-science-20-21/as-student/hwk/data-science-20-21-hwk01-CranappleSlam\n"
          ],
          "name": "stdout"
        }
      ]
    },
    {
      "cell_type": "markdown",
      "metadata": {
        "id": "ofQkZm6jjlsU",
        "colab_type": "text"
      },
      "source": [
        "# Homework"
      ]
    },
    {
      "cell_type": "markdown",
      "metadata": {
        "id": "zaNo1cQ73dnt",
        "colab_type": "text"
      },
      "source": [
        "Consider the famous iris dataset popularized by RA Fisher which contains 4 physical measurements from 150 irises of 3 types: setosa, versicolour, and virginica.  It is available in many many places; I got it here:\n",
        "\n",
        "https://archive.ics.uci.edu/ml/datasets/Iris"
      ]
    },
    {
      "cell_type": "code",
      "metadata": {
        "id": "ayoP4Q7gmla3",
        "colab_type": "code",
        "cellView": "both",
        "colab": {
          "base_uri": "https://localhost:8080/",
          "height": 419
        },
        "outputId": "fbdbaebc-9470-420e-e486-59bd51455a95"
      },
      "source": [
        "import numpy as np\n",
        "import pandas as pd\n",
        "\n",
        "df = pd.read_csv(\"iris.data\", names=['sepal_length', 'sepal_width', 'petal_length', 'petal_width', 'class'])\n",
        "df"
      ],
      "execution_count": 4,
      "outputs": [
        {
          "output_type": "execute_result",
          "data": {
            "text/html": [
              "<div>\n",
              "<style scoped>\n",
              "    .dataframe tbody tr th:only-of-type {\n",
              "        vertical-align: middle;\n",
              "    }\n",
              "\n",
              "    .dataframe tbody tr th {\n",
              "        vertical-align: top;\n",
              "    }\n",
              "\n",
              "    .dataframe thead th {\n",
              "        text-align: right;\n",
              "    }\n",
              "</style>\n",
              "<table border=\"1\" class=\"dataframe\">\n",
              "  <thead>\n",
              "    <tr style=\"text-align: right;\">\n",
              "      <th></th>\n",
              "      <th>sepal_length</th>\n",
              "      <th>sepal_width</th>\n",
              "      <th>petal_length</th>\n",
              "      <th>petal_width</th>\n",
              "      <th>class</th>\n",
              "    </tr>\n",
              "  </thead>\n",
              "  <tbody>\n",
              "    <tr>\n",
              "      <th>0</th>\n",
              "      <td>5.1</td>\n",
              "      <td>3.5</td>\n",
              "      <td>1.4</td>\n",
              "      <td>0.2</td>\n",
              "      <td>Iris-setosa</td>\n",
              "    </tr>\n",
              "    <tr>\n",
              "      <th>1</th>\n",
              "      <td>4.9</td>\n",
              "      <td>3.0</td>\n",
              "      <td>1.4</td>\n",
              "      <td>0.2</td>\n",
              "      <td>Iris-setosa</td>\n",
              "    </tr>\n",
              "    <tr>\n",
              "      <th>2</th>\n",
              "      <td>4.7</td>\n",
              "      <td>3.2</td>\n",
              "      <td>1.3</td>\n",
              "      <td>0.2</td>\n",
              "      <td>Iris-setosa</td>\n",
              "    </tr>\n",
              "    <tr>\n",
              "      <th>3</th>\n",
              "      <td>4.6</td>\n",
              "      <td>3.1</td>\n",
              "      <td>1.5</td>\n",
              "      <td>0.2</td>\n",
              "      <td>Iris-setosa</td>\n",
              "    </tr>\n",
              "    <tr>\n",
              "      <th>4</th>\n",
              "      <td>5.0</td>\n",
              "      <td>3.6</td>\n",
              "      <td>1.4</td>\n",
              "      <td>0.2</td>\n",
              "      <td>Iris-setosa</td>\n",
              "    </tr>\n",
              "    <tr>\n",
              "      <th>...</th>\n",
              "      <td>...</td>\n",
              "      <td>...</td>\n",
              "      <td>...</td>\n",
              "      <td>...</td>\n",
              "      <td>...</td>\n",
              "    </tr>\n",
              "    <tr>\n",
              "      <th>145</th>\n",
              "      <td>6.7</td>\n",
              "      <td>3.0</td>\n",
              "      <td>5.2</td>\n",
              "      <td>2.3</td>\n",
              "      <td>Iris-virginica</td>\n",
              "    </tr>\n",
              "    <tr>\n",
              "      <th>146</th>\n",
              "      <td>6.3</td>\n",
              "      <td>2.5</td>\n",
              "      <td>5.0</td>\n",
              "      <td>1.9</td>\n",
              "      <td>Iris-virginica</td>\n",
              "    </tr>\n",
              "    <tr>\n",
              "      <th>147</th>\n",
              "      <td>6.5</td>\n",
              "      <td>3.0</td>\n",
              "      <td>5.2</td>\n",
              "      <td>2.0</td>\n",
              "      <td>Iris-virginica</td>\n",
              "    </tr>\n",
              "    <tr>\n",
              "      <th>148</th>\n",
              "      <td>6.2</td>\n",
              "      <td>3.4</td>\n",
              "      <td>5.4</td>\n",
              "      <td>2.3</td>\n",
              "      <td>Iris-virginica</td>\n",
              "    </tr>\n",
              "    <tr>\n",
              "      <th>149</th>\n",
              "      <td>5.9</td>\n",
              "      <td>3.0</td>\n",
              "      <td>5.1</td>\n",
              "      <td>1.8</td>\n",
              "      <td>Iris-virginica</td>\n",
              "    </tr>\n",
              "  </tbody>\n",
              "</table>\n",
              "<p>150 rows × 5 columns</p>\n",
              "</div>"
            ],
            "text/plain": [
              "     sepal_length  sepal_width  petal_length  petal_width           class\n",
              "0             5.1          3.5           1.4          0.2     Iris-setosa\n",
              "1             4.9          3.0           1.4          0.2     Iris-setosa\n",
              "2             4.7          3.2           1.3          0.2     Iris-setosa\n",
              "3             4.6          3.1           1.5          0.2     Iris-setosa\n",
              "4             5.0          3.6           1.4          0.2     Iris-setosa\n",
              "..            ...          ...           ...          ...             ...\n",
              "145           6.7          3.0           5.2          2.3  Iris-virginica\n",
              "146           6.3          2.5           5.0          1.9  Iris-virginica\n",
              "147           6.5          3.0           5.2          2.0  Iris-virginica\n",
              "148           6.2          3.4           5.4          2.3  Iris-virginica\n",
              "149           5.9          3.0           5.1          1.8  Iris-virginica\n",
              "\n",
              "[150 rows x 5 columns]"
            ]
          },
          "metadata": {
            "tags": []
          },
          "execution_count": 4
        }
      ]
    },
    {
      "cell_type": "markdown",
      "metadata": {
        "id": "3CW5HjMt6Jp6",
        "colab_type": "text"
      },
      "source": [
        "The questions below can be solved with 1 line of code each.\n",
        "\n",
        "Pandas is column-oriented, so df['sepal_length'] gets the sepal_length column and df[['sepal_length', 'petal_length']] gets both sepal and petal lengths columns."
      ]
    },
    {
      "cell_type": "markdown",
      "metadata": {
        "id": "iN80EMFy-Jaw",
        "colab_type": "text"
      },
      "source": [
        "### Find the largest sepal_width\n"
      ]
    },
    {
      "cell_type": "code",
      "metadata": {
        "id": "OQzmWdQLJDsa",
        "colab_type": "code",
        "colab": {
          "base_uri": "https://localhost:8080/",
          "height": 34
        },
        "outputId": "f2b106cf-27fd-4023-ce4c-e47b7fe7d440"
      },
      "source": [
        "max(df['sepal_width'])"
      ],
      "execution_count": 8,
      "outputs": [
        {
          "output_type": "execute_result",
          "data": {
            "text/plain": [
              "4.4"
            ]
          },
          "metadata": {
            "tags": []
          },
          "execution_count": 8
        }
      ]
    },
    {
      "cell_type": "markdown",
      "metadata": {
        "id": "Q6JTFqxs-T2m",
        "colab_type": "text"
      },
      "source": [
        "### Find the average petal_width"
      ]
    },
    {
      "cell_type": "code",
      "metadata": {
        "id": "xksrcjtoJTnH",
        "colab_type": "code",
        "colab": {
          "base_uri": "https://localhost:8080/",
          "height": 34
        },
        "outputId": "cdffa2a4-2ae9-47af-d6a0-d09fa924a8d9"
      },
      "source": [
        "sum(df['petal_width']) / len(df['petal_width'])"
      ],
      "execution_count": 16,
      "outputs": [
        {
          "output_type": "execute_result",
          "data": {
            "text/plain": [
              "1.1986666666666672"
            ]
          },
          "metadata": {
            "tags": []
          },
          "execution_count": 16
        }
      ]
    },
    {
      "cell_type": "markdown",
      "metadata": {
        "id": "N7Oh2B1s-XZ9",
        "colab_type": "text"
      },
      "source": [
        "### Create a useful set of summary statistics of sepal_length using .describe()"
      ]
    },
    {
      "cell_type": "code",
      "metadata": {
        "id": "3GyAsI6VKSN9",
        "colab_type": "code",
        "colab": {
          "base_uri": "https://localhost:8080/",
          "height": 255
        },
        "outputId": "6b5ca4e9-e123-4940-c2f5-2049590c61ac"
      },
      "source": [
        "df.describe"
      ],
      "execution_count": 17,
      "outputs": [
        {
          "output_type": "execute_result",
          "data": {
            "text/plain": [
              "<bound method NDFrame.describe of      sepal_length  sepal_width  petal_length  petal_width           class\n",
              "0             5.1          3.5           1.4          0.2     Iris-setosa\n",
              "1             4.9          3.0           1.4          0.2     Iris-setosa\n",
              "2             4.7          3.2           1.3          0.2     Iris-setosa\n",
              "3             4.6          3.1           1.5          0.2     Iris-setosa\n",
              "4             5.0          3.6           1.4          0.2     Iris-setosa\n",
              "..            ...          ...           ...          ...             ...\n",
              "145           6.7          3.0           5.2          2.3  Iris-virginica\n",
              "146           6.3          2.5           5.0          1.9  Iris-virginica\n",
              "147           6.5          3.0           5.2          2.0  Iris-virginica\n",
              "148           6.2          3.4           5.4          2.3  Iris-virginica\n",
              "149           5.9          3.0           5.1          1.8  Iris-virginica\n",
              "\n",
              "[150 rows x 5 columns]>"
            ]
          },
          "metadata": {
            "tags": []
          },
          "execution_count": 17
        }
      ]
    },
    {
      "cell_type": "markdown",
      "metadata": {
        "id": "aTtLxyWp-dkP",
        "colab_type": "text"
      },
      "source": [
        "### Find the standard deviation of all four numeric columns and sort with largest on top using sort_values."
      ]
    },
    {
      "cell_type": "code",
      "metadata": {
        "id": "a7TP4m84K3P-",
        "colab_type": "code",
        "colab": {
          "base_uri": "https://localhost:8080/",
          "height": 102
        },
        "outputId": "292496ce-02ec-4bf9-ecae-205c40f9af86"
      },
      "source": [
        "#df.combine(df.sort_values(df.std(0,\"sepal_length\")))\n",
        "df.std().sort_values()"
      ],
      "execution_count": 21,
      "outputs": [
        {
          "output_type": "execute_result",
          "data": {
            "text/plain": [
              "sepal_width     0.433594\n",
              "petal_width     0.763161\n",
              "sepal_length    0.828066\n",
              "petal_length    1.764420\n",
              "dtype: float64"
            ]
          },
          "metadata": {
            "tags": []
          },
          "execution_count": 21
        }
      ]
    },
    {
      "cell_type": "markdown",
      "metadata": {
        "id": "9EjfOgFo-kBh",
        "colab_type": "text"
      },
      "source": [
        "### For each row, sum the 4 measurements; use argument axis=1."
      ]
    },
    {
      "cell_type": "code",
      "metadata": {
        "id": "566LFE08PTJa",
        "colab_type": "code",
        "colab": {
          "base_uri": "https://localhost:8080/",
          "height": 221
        },
        "outputId": "714e420c-e558-4aee-da88-bcd0926e95d6"
      },
      "source": [
        "df.sum(axis=1)"
      ],
      "execution_count": 22,
      "outputs": [
        {
          "output_type": "execute_result",
          "data": {
            "text/plain": [
              "0      10.2\n",
              "1       9.5\n",
              "2       9.4\n",
              "3       9.4\n",
              "4      10.2\n",
              "       ... \n",
              "145    17.2\n",
              "146    15.7\n",
              "147    16.7\n",
              "148    17.3\n",
              "149    15.8\n",
              "Length: 150, dtype: float64"
            ]
          },
          "metadata": {
            "tags": []
          },
          "execution_count": 22
        }
      ]
    },
    {
      "cell_type": "markdown",
      "metadata": {
        "id": "eatvXR1J8qEw",
        "colab_type": "text"
      },
      "source": [
        "### Because pandas is column-oriented, it is trickier to select rows.  We use .loc[...] to select using names (aka labels) and .iloc[...] to select using position (aka index or integer)."
      ]
    },
    {
      "cell_type": "markdown",
      "metadata": {
        "id": "KvwevR0GAilX",
        "colab_type": "text"
      },
      "source": [
        "### Find the sepal_length in the 3rd row.  Be careful - python starts indexing at 0.  So the first row is row 0."
      ]
    },
    {
      "cell_type": "code",
      "metadata": {
        "id": "ZeItLuKwP2H7",
        "colab_type": "code",
        "colab": {
          "base_uri": "https://localhost:8080/",
          "height": 34
        },
        "outputId": "002e08df-bbe5-490b-e198-54ac5c2bd955"
      },
      "source": [
        "df['sepal_length'].iloc[2]"
      ],
      "execution_count": 34,
      "outputs": [
        {
          "output_type": "execute_result",
          "data": {
            "text/plain": [
              "4.7"
            ]
          },
          "metadata": {
            "tags": []
          },
          "execution_count": 34
        }
      ]
    },
    {
      "cell_type": "markdown",
      "metadata": {
        "id": "8rmdNigbEydQ",
        "colab_type": "text"
      },
      "source": [
        "### Python uses : to denote ranges and as placeholders using start:stop:offset.  However, be careful b/c ranges are usually left inclusive but right exclusive.  Ex: df.iloc[1:9:2, :] gives all columns of rows 1, 3, 5, and 7 but not 9 because the stop value is NOT included.  Again, 0-based indexing means these are the second, fourth, sixth, and eighth rows.  Print every second row from the 20th through the 30th."
      ]
    },
    {
      "cell_type": "code",
      "metadata": {
        "id": "bwRnaNt7QoGG",
        "colab_type": "code",
        "colab": {
          "base_uri": "https://localhost:8080/",
          "height": 235
        },
        "outputId": "ab85ccb2-b6ca-4515-9351-0cb5af02bcd2"
      },
      "source": [
        "df[20:31:2]"
      ],
      "execution_count": 27,
      "outputs": [
        {
          "output_type": "execute_result",
          "data": {
            "text/html": [
              "<div>\n",
              "<style scoped>\n",
              "    .dataframe tbody tr th:only-of-type {\n",
              "        vertical-align: middle;\n",
              "    }\n",
              "\n",
              "    .dataframe tbody tr th {\n",
              "        vertical-align: top;\n",
              "    }\n",
              "\n",
              "    .dataframe thead th {\n",
              "        text-align: right;\n",
              "    }\n",
              "</style>\n",
              "<table border=\"1\" class=\"dataframe\">\n",
              "  <thead>\n",
              "    <tr style=\"text-align: right;\">\n",
              "      <th></th>\n",
              "      <th>sepal_length</th>\n",
              "      <th>sepal_width</th>\n",
              "      <th>petal_length</th>\n",
              "      <th>petal_width</th>\n",
              "      <th>class</th>\n",
              "    </tr>\n",
              "  </thead>\n",
              "  <tbody>\n",
              "    <tr>\n",
              "      <th>20</th>\n",
              "      <td>5.4</td>\n",
              "      <td>3.4</td>\n",
              "      <td>1.7</td>\n",
              "      <td>0.2</td>\n",
              "      <td>Iris-setosa</td>\n",
              "    </tr>\n",
              "    <tr>\n",
              "      <th>22</th>\n",
              "      <td>4.6</td>\n",
              "      <td>3.6</td>\n",
              "      <td>1.0</td>\n",
              "      <td>0.2</td>\n",
              "      <td>Iris-setosa</td>\n",
              "    </tr>\n",
              "    <tr>\n",
              "      <th>24</th>\n",
              "      <td>4.8</td>\n",
              "      <td>3.4</td>\n",
              "      <td>1.9</td>\n",
              "      <td>0.2</td>\n",
              "      <td>Iris-setosa</td>\n",
              "    </tr>\n",
              "    <tr>\n",
              "      <th>26</th>\n",
              "      <td>5.0</td>\n",
              "      <td>3.4</td>\n",
              "      <td>1.6</td>\n",
              "      <td>0.4</td>\n",
              "      <td>Iris-setosa</td>\n",
              "    </tr>\n",
              "    <tr>\n",
              "      <th>28</th>\n",
              "      <td>5.2</td>\n",
              "      <td>3.4</td>\n",
              "      <td>1.4</td>\n",
              "      <td>0.2</td>\n",
              "      <td>Iris-setosa</td>\n",
              "    </tr>\n",
              "    <tr>\n",
              "      <th>30</th>\n",
              "      <td>4.8</td>\n",
              "      <td>3.1</td>\n",
              "      <td>1.6</td>\n",
              "      <td>0.2</td>\n",
              "      <td>Iris-setosa</td>\n",
              "    </tr>\n",
              "  </tbody>\n",
              "</table>\n",
              "</div>"
            ],
            "text/plain": [
              "    sepal_length  sepal_width  petal_length  petal_width        class\n",
              "20           5.4          3.4           1.7          0.2  Iris-setosa\n",
              "22           4.6          3.6           1.0          0.2  Iris-setosa\n",
              "24           4.8          3.4           1.9          0.2  Iris-setosa\n",
              "26           5.0          3.4           1.6          0.4  Iris-setosa\n",
              "28           5.2          3.4           1.4          0.2  Iris-setosa\n",
              "30           4.8          3.1           1.6          0.2  Iris-setosa"
            ]
          },
          "metadata": {
            "tags": []
          },
          "execution_count": 27
        }
      ]
    },
    {
      "cell_type": "markdown",
      "metadata": {
        "id": "ftoANhp6BW7p",
        "colab_type": "text"
      },
      "source": [
        "### Python uses negative numbers to select starting at the end and moving backward.  Print the last row."
      ]
    },
    {
      "cell_type": "code",
      "metadata": {
        "id": "B4EsyJV0Qv6j",
        "colab_type": "code",
        "colab": {
          "base_uri": "https://localhost:8080/",
          "height": 80
        },
        "outputId": "0bcd418d-1b82-43b0-8705-68c242ffb567"
      },
      "source": [
        "df[-1:]"
      ],
      "execution_count": 42,
      "outputs": [
        {
          "output_type": "execute_result",
          "data": {
            "text/html": [
              "<div>\n",
              "<style scoped>\n",
              "    .dataframe tbody tr th:only-of-type {\n",
              "        vertical-align: middle;\n",
              "    }\n",
              "\n",
              "    .dataframe tbody tr th {\n",
              "        vertical-align: top;\n",
              "    }\n",
              "\n",
              "    .dataframe thead th {\n",
              "        text-align: right;\n",
              "    }\n",
              "</style>\n",
              "<table border=\"1\" class=\"dataframe\">\n",
              "  <thead>\n",
              "    <tr style=\"text-align: right;\">\n",
              "      <th></th>\n",
              "      <th>sepal_length</th>\n",
              "      <th>sepal_width</th>\n",
              "      <th>petal_length</th>\n",
              "      <th>petal_width</th>\n",
              "      <th>class</th>\n",
              "    </tr>\n",
              "  </thead>\n",
              "  <tbody>\n",
              "    <tr>\n",
              "      <th>149</th>\n",
              "      <td>5.9</td>\n",
              "      <td>3.0</td>\n",
              "      <td>5.1</td>\n",
              "      <td>1.8</td>\n",
              "      <td>Iris-virginica</td>\n",
              "    </tr>\n",
              "  </tbody>\n",
              "</table>\n",
              "</div>"
            ],
            "text/plain": [
              "     sepal_length  sepal_width  petal_length  petal_width           class\n",
              "149           5.9          3.0           5.1          1.8  Iris-virginica"
            ]
          },
          "metadata": {
            "tags": []
          },
          "execution_count": 42
        }
      ]
    },
    {
      "cell_type": "markdown",
      "metadata": {
        "id": "R7o8hegdCZIu",
        "colab_type": "text"
      },
      "source": [
        "### Sadly, .loc and iloc are restrictive because we often want to mix indexing methods - select rows by position and columns by name (or conversely).  One solution is to first select columns then rows.  Print the sepal_length and sepal_width columns of the last 4 rows"
      ]
    },
    {
      "cell_type": "code",
      "metadata": {
        "id": "Dte7anaUSMdV",
        "colab_type": "code",
        "colab": {
          "base_uri": "https://localhost:8080/",
          "height": 173
        },
        "outputId": "66e769e3-377d-4868-f11c-cadfde3ed844"
      },
      "source": [
        "df[['sepal_length','sepal_width']].iloc[-4:]"
      ],
      "execution_count": 57,
      "outputs": [
        {
          "output_type": "execute_result",
          "data": {
            "text/html": [
              "<div>\n",
              "<style scoped>\n",
              "    .dataframe tbody tr th:only-of-type {\n",
              "        vertical-align: middle;\n",
              "    }\n",
              "\n",
              "    .dataframe tbody tr th {\n",
              "        vertical-align: top;\n",
              "    }\n",
              "\n",
              "    .dataframe thead th {\n",
              "        text-align: right;\n",
              "    }\n",
              "</style>\n",
              "<table border=\"1\" class=\"dataframe\">\n",
              "  <thead>\n",
              "    <tr style=\"text-align: right;\">\n",
              "      <th></th>\n",
              "      <th>sepal_length</th>\n",
              "      <th>sepal_width</th>\n",
              "    </tr>\n",
              "  </thead>\n",
              "  <tbody>\n",
              "    <tr>\n",
              "      <th>146</th>\n",
              "      <td>6.3</td>\n",
              "      <td>2.5</td>\n",
              "    </tr>\n",
              "    <tr>\n",
              "      <th>147</th>\n",
              "      <td>6.5</td>\n",
              "      <td>3.0</td>\n",
              "    </tr>\n",
              "    <tr>\n",
              "      <th>148</th>\n",
              "      <td>6.2</td>\n",
              "      <td>3.4</td>\n",
              "    </tr>\n",
              "    <tr>\n",
              "      <th>149</th>\n",
              "      <td>5.9</td>\n",
              "      <td>3.0</td>\n",
              "    </tr>\n",
              "  </tbody>\n",
              "</table>\n",
              "</div>"
            ],
            "text/plain": [
              "     sepal_length  sepal_width\n",
              "146           6.3          2.5\n",
              "147           6.5          3.0\n",
              "148           6.2          3.4\n",
              "149           5.9          3.0"
            ]
          },
          "metadata": {
            "tags": []
          },
          "execution_count": 57
        }
      ]
    },
    {
      "cell_type": "markdown",
      "metadata": {
        "id": "v2S0GtQMOUf9",
        "colab_type": "text"
      },
      "source": [
        "### CONGRATS - you are done! Go back to git_assignment and push() to your github repo."
      ]
    }
  ]
}